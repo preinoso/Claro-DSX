{
    "nbformat_minor": 1, 
    "cells": [
        {
            "execution_count": 1, 
            "cell_type": "code", 
            "metadata": {}, 
            "outputs": [
                {
                    "execution_count": 1, 
                    "metadata": {}, 
                    "data": {
                        "text/html": "<div>\n<style scoped>\n    .dataframe tbody tr th:only-of-type {\n        vertical-align: middle;\n    }\n\n    .dataframe tbody tr th {\n        vertical-align: top;\n    }\n\n    .dataframe thead th {\n        text-align: right;\n    }\n</style>\n<table border=\"1\" class=\"dataframe\">\n  <thead>\n    <tr style=\"text-align: right;\">\n      <th></th>\n      <th>name</th>\n      <th>Dial</th>\n    </tr>\n  </thead>\n  <tbody>\n    <tr>\n      <th>0</th>\n      <td>United States</td>\n      <td>1</td>\n    </tr>\n    <tr>\n      <th>1</th>\n      <td>Russia</td>\n      <td>7</td>\n    </tr>\n    <tr>\n      <th>2</th>\n      <td>Egypt</td>\n      <td>20</td>\n    </tr>\n    <tr>\n      <th>3</th>\n      <td>South Africa</td>\n      <td>27</td>\n    </tr>\n    <tr>\n      <th>4</th>\n      <td>Greece</td>\n      <td>30</td>\n    </tr>\n  </tbody>\n</table>\n</div>", 
                        "text/plain": "            name  Dial\n0  United States     1\n1         Russia     7\n2          Egypt    20\n3   South Africa    27\n4         Greece    30"
                    }, 
                    "output_type": "execute_result"
                }
            ], 
            "source": "# The code was removed by Watson Studio for sharing."
        }, 
        {
            "execution_count": 2, 
            "cell_type": "code", 
            "metadata": {}, 
            "outputs": [
                {
                    "execution_count": 2, 
                    "metadata": {}, 
                    "data": {
                        "text/html": "<div>\n<style scoped>\n    .dataframe tbody tr th:only-of-type {\n        vertical-align: middle;\n    }\n\n    .dataframe tbody tr th {\n        vertical-align: top;\n    }\n\n    .dataframe thead th {\n        text-align: right;\n    }\n</style>\n<table border=\"1\" class=\"dataframe\">\n  <thead>\n    <tr style=\"text-align: right;\">\n      <th></th>\n      <th>squareId</th>\n      <th>lat</th>\n      <th>lon</th>\n    </tr>\n  </thead>\n  <tbody>\n    <tr>\n      <th>0</th>\n      <td>1</td>\n      <td>45.357743</td>\n      <td>9.012991</td>\n    </tr>\n    <tr>\n      <th>1</th>\n      <td>2</td>\n      <td>45.357743</td>\n      <td>9.015991</td>\n    </tr>\n    <tr>\n      <th>2</th>\n      <td>3</td>\n      <td>45.357743</td>\n      <td>9.018992</td>\n    </tr>\n    <tr>\n      <th>3</th>\n      <td>4</td>\n      <td>45.357743</td>\n      <td>9.021992</td>\n    </tr>\n    <tr>\n      <th>4</th>\n      <td>5</td>\n      <td>45.357743</td>\n      <td>9.024993</td>\n    </tr>\n  </tbody>\n</table>\n</div>", 
                        "text/plain": "   squareId        lat       lon\n0         1  45.357743  9.012991\n1         2  45.357743  9.015991\n2         3  45.357743  9.018992\n3         4  45.357743  9.021992\n4         5  45.357743  9.024993"
                    }, 
                    "output_type": "execute_result"
                }
            ], 
            "source": "\nbody = client_11856f966c6d418e84b13674017f3c40.get_object(Bucket='clarodsx-donotdelete-pr-aenfjjjn7qxg8k',Key='milano-grid.csv')['Body']\n# add missing __iter__ method, so pandas accepts body as file-like object\nif not hasattr(body, \"__iter__\"): body.__iter__ = types.MethodType( __iter__, body )\n\ndf_data_2 = pd.read_csv(body)\ndf_data_2.head()\n\n"
        }, 
        {
            "execution_count": null, 
            "cell_type": "code", 
            "metadata": {}, 
            "outputs": [], 
            "source": ""
        }
    ], 
    "metadata": {
        "kernelspec": {
            "display_name": "Python 3.5", 
            "name": "python3", 
            "language": "python"
        }, 
        "language_info": {
            "mimetype": "text/x-python", 
            "nbconvert_exporter": "python", 
            "version": "3.5.5", 
            "name": "python", 
            "file_extension": ".py", 
            "pygments_lexer": "ipython3", 
            "codemirror_mode": {
                "version": 3, 
                "name": "ipython"
            }
        }
    }, 
    "nbformat": 4
}